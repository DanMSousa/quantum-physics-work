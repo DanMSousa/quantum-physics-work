{
 "cells": [
  {
   "cell_type": "code",
   "execution_count": 1,
   "id": "e59a0de0-d9e6-4d62-afde-19c9ac3adbf7",
   "metadata": {},
   "outputs": [],
   "source": [
    "# imports\n",
    "import numpy as np\n",
    "import matplotlib.pyplot as plt\n",
    "from sklearn.linear_model import LinearRegression"
   ]
  },
  {
   "cell_type": "code",
   "execution_count": 2,
   "id": "c3fc76af-71da-4591-a3a2-432ed57199cc",
   "metadata": {},
   "outputs": [],
   "source": [
    "#lista/colunas dos dados\n",
    "frequence_list = np.array([4.65e12, 5.66e12, 6.12e12, 6.38e12, 6.81e12]).reshape(-1, 1)\n",
    "volts_list = np.array([2.20e-01, 4.70e-01, 6.80e-01, 8.50e-01, 9.70e-01])"
   ]
  },
  {
   "cell_type": "code",
   "execution_count": 3,
   "id": "14a5de3f-5874-45e4-b258-25ae7c7e7262",
   "metadata": {},
   "outputs": [
    {
     "name": "stdout",
     "output_type": "stream",
     "text": [
      "Coeficiente Angular: 3.5825881385548367e-13\n",
      "Intercepto: -1.4843252132798852\n"
     ]
    }
   ],
   "source": [
    "# criação do modelo de regressão linear:\n",
    "model = LinearRegression()\n",
    "model.fit(frequence_list, volts_list)\n",
    "\n",
    "h_planck_coef = model.coef_[0]\n",
    "intercepto = model.intercept_\n",
    "\n",
    "print(f\"Coeficiente Angular: {h_planck_coef}\")\n",
    "print(f\"Intercepto / Função trabalho: {intercepto}\")\n"
   ]
  },
  {
   "cell_type": "code",
   "execution_count": 4,
   "id": "5bd97ec4-ed03-45e4-a528-f11bf42ff86e",
   "metadata": {},
   "outputs": [
    {
     "name": "stderr",
     "output_type": "stream",
     "text": [
      "I:\\softwares\\anaconda\\Lib\\site-packages\\statsmodels\\stats\\stattools.py:74: ValueWarning: omni_normtest is not valid with less than 8 observations; 5 samples were given.\n",
      "  warn(\"omni_normtest is not valid with less than 8 observations; %i \"\n"
     ]
    },
    {
     "data": {
      "text/html": [
       "<table class=\"simpletable\">\n",
       "<caption>OLS Regression Results</caption>\n",
       "<tr>\n",
       "  <th>Dep. Variable:</th>            <td>y</td>        <th>  R-squared:         </th> <td>   0.972</td>\n",
       "</tr>\n",
       "<tr>\n",
       "  <th>Model:</th>                   <td>OLS</td>       <th>  Adj. R-squared:    </th> <td>   0.962</td>\n",
       "</tr>\n",
       "<tr>\n",
       "  <th>Method:</th>             <td>Least Squares</td>  <th>  F-statistic:       </th> <td>   102.4</td>\n",
       "</tr>\n",
       "<tr>\n",
       "  <th>Date:</th>             <td>Sun, 07 Jul 2024</td> <th>  Prob (F-statistic):</th>  <td>0.00205</td>\n",
       "</tr>\n",
       "<tr>\n",
       "  <th>Time:</th>                 <td>19:01:48</td>     <th>  Log-Likelihood:    </th> <td>  8.3823</td>\n",
       "</tr>\n",
       "<tr>\n",
       "  <th>No. Observations:</th>      <td>     5</td>      <th>  AIC:               </th> <td>  -12.76</td>\n",
       "</tr>\n",
       "<tr>\n",
       "  <th>Df Residuals:</th>          <td>     3</td>      <th>  BIC:               </th> <td>  -13.55</td>\n",
       "</tr>\n",
       "<tr>\n",
       "  <th>Df Model:</th>              <td>     1</td>      <th>                     </th>     <td> </td>   \n",
       "</tr>\n",
       "<tr>\n",
       "  <th>Covariance Type:</th>      <td>nonrobust</td>    <th>                     </th>     <td> </td>   \n",
       "</tr>\n",
       "</table>\n",
       "<table class=\"simpletable\">\n",
       "<tr>\n",
       "    <td></td>       <th>coef</th>     <th>std err</th>      <th>t</th>      <th>P>|t|</th>  <th>[0.025</th>    <th>0.975]</th>  \n",
       "</tr>\n",
       "<tr>\n",
       "  <th>const</th> <td>   -1.4843</td> <td>    0.211</td> <td>   -7.024</td> <td> 0.006</td> <td>   -2.157</td> <td>   -0.812</td>\n",
       "</tr>\n",
       "<tr>\n",
       "  <th>x1</th>    <td> 3.583e-13</td> <td> 3.54e-14</td> <td>   10.120</td> <td> 0.002</td> <td> 2.46e-13</td> <td> 4.71e-13</td>\n",
       "</tr>\n",
       "</table>\n",
       "<table class=\"simpletable\">\n",
       "<tr>\n",
       "  <th>Omnibus:</th>       <td>   nan</td> <th>  Durbin-Watson:     </th> <td>   2.111</td>\n",
       "</tr>\n",
       "<tr>\n",
       "  <th>Prob(Omnibus):</th> <td>   nan</td> <th>  Jarque-Bera (JB):  </th> <td>   0.536</td>\n",
       "</tr>\n",
       "<tr>\n",
       "  <th>Skew:</th>          <td>-0.525</td> <th>  Prob(JB):          </th> <td>   0.765</td>\n",
       "</tr>\n",
       "<tr>\n",
       "  <th>Kurtosis:</th>      <td> 1.788</td> <th>  Cond. No.          </th> <td>4.83e+13</td>\n",
       "</tr>\n",
       "</table><br/><br/>Notes:<br/>[1] Standard Errors assume that the covariance matrix of the errors is correctly specified.<br/>[2] The condition number is large, 4.83e+13. This might indicate that there are<br/>strong multicollinearity or other numerical problems."
      ],
      "text/latex": [
       "\\begin{center}\n",
       "\\begin{tabular}{lclc}\n",
       "\\toprule\n",
       "\\textbf{Dep. Variable:}    &        y         & \\textbf{  R-squared:         } &     0.972   \\\\\n",
       "\\textbf{Model:}            &       OLS        & \\textbf{  Adj. R-squared:    } &     0.962   \\\\\n",
       "\\textbf{Method:}           &  Least Squares   & \\textbf{  F-statistic:       } &     102.4   \\\\\n",
       "\\textbf{Date:}             & Sun, 07 Jul 2024 & \\textbf{  Prob (F-statistic):} &  0.00205    \\\\\n",
       "\\textbf{Time:}             &     19:01:48     & \\textbf{  Log-Likelihood:    } &    8.3823   \\\\\n",
       "\\textbf{No. Observations:} &           5      & \\textbf{  AIC:               } &    -12.76   \\\\\n",
       "\\textbf{Df Residuals:}     &           3      & \\textbf{  BIC:               } &    -13.55   \\\\\n",
       "\\textbf{Df Model:}         &           1      & \\textbf{                     } &             \\\\\n",
       "\\textbf{Covariance Type:}  &    nonrobust     & \\textbf{                     } &             \\\\\n",
       "\\bottomrule\n",
       "\\end{tabular}\n",
       "\\begin{tabular}{lcccccc}\n",
       "               & \\textbf{coef} & \\textbf{std err} & \\textbf{t} & \\textbf{P$> |$t$|$} & \\textbf{[0.025} & \\textbf{0.975]}  \\\\\n",
       "\\midrule\n",
       "\\textbf{const} &      -1.4843  &        0.211     &    -7.024  &         0.006        &       -2.157    &       -0.812     \\\\\n",
       "\\textbf{x1}    &    3.583e-13  &     3.54e-14     &    10.120  &         0.002        &     2.46e-13    &     4.71e-13     \\\\\n",
       "\\bottomrule\n",
       "\\end{tabular}\n",
       "\\begin{tabular}{lclc}\n",
       "\\textbf{Omnibus:}       &    nan & \\textbf{  Durbin-Watson:     } &    2.111  \\\\\n",
       "\\textbf{Prob(Omnibus):} &    nan & \\textbf{  Jarque-Bera (JB):  } &    0.536  \\\\\n",
       "\\textbf{Skew:}          & -0.525 & \\textbf{  Prob(JB):          } &    0.765  \\\\\n",
       "\\textbf{Kurtosis:}      &  1.788 & \\textbf{  Cond. No.          } & 4.83e+13  \\\\\n",
       "\\bottomrule\n",
       "\\end{tabular}\n",
       "%\\caption{OLS Regression Results}\n",
       "\\end{center}\n",
       "\n",
       "Notes: \\newline\n",
       " [1] Standard Errors assume that the covariance matrix of the errors is correctly specified. \\newline\n",
       " [2] The condition number is large, 4.83e+13. This might indicate that there are \\newline\n",
       " strong multicollinearity or other numerical problems."
      ],
      "text/plain": [
       "<class 'statsmodels.iolib.summary.Summary'>\n",
       "\"\"\"\n",
       "                            OLS Regression Results                            \n",
       "==============================================================================\n",
       "Dep. Variable:                      y   R-squared:                       0.972\n",
       "Model:                            OLS   Adj. R-squared:                  0.962\n",
       "Method:                 Least Squares   F-statistic:                     102.4\n",
       "Date:                Sun, 07 Jul 2024   Prob (F-statistic):            0.00205\n",
       "Time:                        19:01:48   Log-Likelihood:                 8.3823\n",
       "No. Observations:                   5   AIC:                            -12.76\n",
       "Df Residuals:                       3   BIC:                            -13.55\n",
       "Df Model:                           1                                         \n",
       "Covariance Type:            nonrobust                                         \n",
       "==============================================================================\n",
       "                 coef    std err          t      P>|t|      [0.025      0.975]\n",
       "------------------------------------------------------------------------------\n",
       "const         -1.4843      0.211     -7.024      0.006      -2.157      -0.812\n",
       "x1          3.583e-13   3.54e-14     10.120      0.002    2.46e-13    4.71e-13\n",
       "==============================================================================\n",
       "Omnibus:                          nan   Durbin-Watson:                   2.111\n",
       "Prob(Omnibus):                    nan   Jarque-Bera (JB):                0.536\n",
       "Skew:                          -0.525   Prob(JB):                        0.765\n",
       "Kurtosis:                       1.788   Cond. No.                     4.83e+13\n",
       "==============================================================================\n",
       "\n",
       "Notes:\n",
       "[1] Standard Errors assume that the covariance matrix of the errors is correctly specified.\n",
       "[2] The condition number is large, 4.83e+13. This might indicate that there are\n",
       "strong multicollinearity or other numerical problems.\n",
       "\"\"\""
      ]
     },
     "execution_count": 4,
     "metadata": {},
     "output_type": "execute_result"
    }
   ],
   "source": [
    "# criando o modelo que gera os dados estatísticos com statsmodels e mostrando o sumário para pegar o erro padrão\n",
    "import statsmodels.api as sm\n",
    "X_with_const = sm.add_constant(frequence_list)\n",
    "model_sm = sm.OLS(volts_list, X_with_const).fit()\n",
    "model_sm.summary()"
   ]
  },
  {
   "cell_type": "raw",
   "id": "981effba-ca1e-4da3-9ada-7deccc913f79",
   "metadata": {},
   "source": [
    "std err"
   ]
  },
  {
   "cell_type": "code",
   "execution_count": 5,
   "id": "ed49f86f-9b16-41cd-914c-ef574a8eb229",
   "metadata": {},
   "outputs": [
    {
     "name": "stdout",
     "output_type": "stream",
     "text": [
      "Valor da constante de planck: 5.732141021687738e-32\n"
     ]
    }
   ],
   "source": [
    "# cálculo de planck com a carga do elétron:\n",
    "q_eletron=\t1.60e-19\n",
    "erro_padrao = 4.13e-14\n",
    "h = (h_planck_coef * q_eletron)\n",
    "\n",
    "print(f\"Valor da constante de planck: {h}\")"
   ]
  },
  {
   "cell_type": "code",
   "execution_count": null,
   "id": "51191784-bf4b-4676-b162-26366a0a6ffe",
   "metadata": {},
   "outputs": [],
   "source": []
  }
 ],
 "metadata": {
  "kernelspec": {
   "display_name": "Python 3 (ipykernel)",
   "language": "python",
   "name": "python3"
  },
  "language_info": {
   "codemirror_mode": {
    "name": "ipython",
    "version": 3
   },
   "file_extension": ".py",
   "mimetype": "text/x-python",
   "name": "python",
   "nbconvert_exporter": "python",
   "pygments_lexer": "ipython3",
   "version": "3.11.7"
  }
 },
 "nbformat": 4,
 "nbformat_minor": 5
}
